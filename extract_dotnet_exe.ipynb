{
 "cells": [
  {
   "cell_type": "code",
   "execution_count": 16,
   "id": "7fb95240",
   "metadata": {},
   "outputs": [],
   "source": [
    "with open('extra_stream.toArray') as inf:\n",
    "    data = inf.readlines()"
   ]
  },
  {
   "cell_type": "code",
   "execution_count": 17,
   "id": "162d9d58",
   "metadata": {},
   "outputs": [],
   "source": [
    "data = list(map(lambda x: int(x.strip()), data))\n",
    "data = bytes(data)"
   ]
  },
  {
   "cell_type": "code",
   "execution_count": 18,
   "id": "dcbb44b3",
   "metadata": {},
   "outputs": [],
   "source": [
    "with open('extra_stream.toArray.exe', 'wb') as f:\n",
    "    f.write(data)"
   ]
  },
  {
   "cell_type": "code",
   "execution_count": null,
   "id": "0de731b8",
   "metadata": {},
   "outputs": [],
   "source": []
  },
  {
   "cell_type": "code",
   "execution_count": null,
   "id": "9d465f0f",
   "metadata": {},
   "outputs": [],
   "source": []
  },
  {
   "cell_type": "code",
   "execution_count": null,
   "id": "d366af3c",
   "metadata": {},
   "outputs": [],
   "source": []
  },
  {
   "cell_type": "code",
   "execution_count": 1,
   "id": "2c991729",
   "metadata": {},
   "outputs": [
    {
     "data": {
      "text/plain": [
       "b'\\xb8W\\x00\\x07\\x80\\xc3'"
      ]
     },
     "execution_count": 1,
     "metadata": {},
     "output_type": "execute_result"
    }
   ],
   "source": [
    "x = [184,87,0,7,128,195]\n",
    "\n",
    "bytes(x)"
   ]
  },
  {
   "cell_type": "code",
   "execution_count": 2,
   "id": "e2bc4709",
   "metadata": {},
   "outputs": [
    {
     "data": {
      "text/plain": [
       "b'\\xb8W\\x00\\x07\\x80\\xc2\\x18\\x00'"
      ]
     },
     "execution_count": 2,
     "metadata": {},
     "output_type": "execute_result"
    }
   ],
   "source": [
    "y = [184,87,0,7,128,194,24,0]\n",
    "bytes(y)"
   ]
  },
  {
   "cell_type": "code",
   "execution_count": null,
   "id": "3775ae96",
   "metadata": {},
   "outputs": [],
   "source": []
  }
 ],
 "metadata": {
  "kernelspec": {
   "display_name": "Python 3 (ipykernel)",
   "language": "python",
   "name": "python3"
  },
  "language_info": {
   "codemirror_mode": {
    "name": "ipython",
    "version": 3
   },
   "file_extension": ".py",
   "mimetype": "text/x-python",
   "name": "python",
   "nbconvert_exporter": "python",
   "pygments_lexer": "ipython3",
   "version": "3.10.7"
  }
 },
 "nbformat": 4,
 "nbformat_minor": 5
}
